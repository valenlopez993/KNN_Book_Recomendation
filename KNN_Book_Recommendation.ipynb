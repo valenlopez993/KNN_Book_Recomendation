{
  "cells": [
    {
      "cell_type": "markdown",
      "metadata": {
        "colab_type": "text",
        "id": "view-in-github"
      },
      "source": [
        "<a href=\"https://colab.research.google.com/github/valenlopez993/KNN_Book_Recomendation/blob/main/KNN_Book_Recommendation.ipynb\" target=\"_parent\"><img src=\"https://colab.research.google.com/assets/colab-badge.svg\" alt=\"Open In Colab\"/></a>"
      ]
    },
    {
      "cell_type": "markdown",
      "metadata": {
        "id": "Tb8_ckp9ZwLF"
      },
      "source": [
        "# Import libraries"
      ]
    },
    {
      "cell_type": "code",
      "execution_count": null,
      "metadata": {
        "id": "Y1onB6kUvo4Z"
      },
      "outputs": [],
      "source": [
        "import numpy as np\n",
        "import pandas as pd\n",
        "from scipy.sparse import csr_matrix\n",
        "from sklearn.neighbors import NearestNeighbors\n",
        "import matplotlib.pyplot as plt"
      ]
    },
    {
      "cell_type": "markdown",
      "metadata": {
        "id": "t25Z_lh5Z1cH"
      },
      "source": [
        "# Get data files"
      ]
    },
    {
      "cell_type": "code",
      "execution_count": null,
      "metadata": {
        "id": "iAQGqqO_vo4d"
      },
      "outputs": [],
      "source": [
        "import sys\n",
        "import os\n",
        "\n",
        "if 'google.colab' in sys.modules:\n",
        "    !wget https://cdn.freecodecamp.org/project-data/books/book-crossings.zip\n",
        "    !unzip book-crossings.zip\n",
        "\n",
        "else:\n",
        "    import subprocess\n",
        "\n",
        "    def runCommand(command, verbose=False):\n",
        "        process = subprocess.run(command, stdout = subprocess.PIPE, stderr = subprocess.PIPE, text = True, shell = True)\n",
        "        std_out, std_err = process.stdout, process.stderr\n",
        "        if verbose:\n",
        "            print(std_out.strip(), std_err)\n",
        "\n",
        "    files = os.listdir()\n",
        "    if not ('book-crossings.zip' in files):\n",
        "        runCommand('wget \"https://cdn.freecodecamp.org/project-data/books/book-crossings.zip\"')\n",
        "    if (('BX-Book-Ratings.csv' in files) or ('BX-Books.csv' in files)) or ('BX-Users.csv' in files):\n",
        "        runCommand('rm BX-Book-Ratings.csv BX-Books.csv BX-Users.csv')\n",
        "    runCommand('tar -xf book-crossings.zip')"
      ]
    },
    {
      "cell_type": "markdown",
      "metadata": {
        "id": "HDizwRH-iL_i"
      },
      "source": [
        "# Preprocessing Data"
      ]
    },
    {
      "cell_type": "markdown",
      "metadata": {
        "id": "JGkCT83teXe8"
      },
      "source": [
        "## Creating the dataframes"
      ]
    },
    {
      "cell_type": "code",
      "execution_count": null,
      "metadata": {
        "id": "NClILWOiEd6Q"
      },
      "outputs": [],
      "source": [
        "books_filename = 'BX-Books.csv'\n",
        "ratings_filename = 'BX-Book-Ratings.csv'\n",
        "\n",
        "df_books = pd.read_csv(\n",
        "    books_filename,\n",
        "    encoding = \"ISO-8859-1\",\n",
        "    sep=\";\",\n",
        "    header=0,\n",
        "    names=['isbn', 'title', 'author'],\n",
        "    usecols=['isbn', 'title', 'author'],\n",
        "    dtype={'isbn': 'str', 'title': 'str', 'author': 'str'})\n",
        "\n",
        "df_ratings = pd.read_csv(\n",
        "    ratings_filename,\n",
        "    encoding = \"ISO-8859-1\",\n",
        "    sep=\";\",\n",
        "    header=0,\n",
        "    names=['user', 'isbn', 'rating'],\n",
        "    usecols=['user', 'isbn', 'rating'],\n",
        "    dtype={'user': 'int32', 'isbn': 'str', 'rating': 'float32'})"
      ]
    },
    {
      "cell_type": "code",
      "execution_count": null,
      "metadata": {
        "id": "mTrU-FXFe6r9",
        "outputId": "7917dd9a-3fc7-4a1f-a25d-b63c9e620154"
      },
      "outputs": [],
      "source": [
        "df_books.shape"
      ]
    },
    {
      "cell_type": "code",
      "execution_count": null,
      "metadata": {
        "id": "p6sZbFCAfXwD",
        "outputId": "b02e4844-6d8b-4c2f-d7ab-ba7e83983c97"
      },
      "outputs": [],
      "source": [
        "df_ratings.shape"
      ]
    },
    {
      "cell_type": "markdown",
      "metadata": {
        "id": "tmvdSz5knJ9M"
      },
      "source": [
        "## Decreasing the size of the data"
      ]
    },
    {
      "cell_type": "markdown",
      "metadata": {
        "id": "D5CwQX2ynJ9N"
      },
      "source": [
        "##### Just the Books with at least 100 reviews will be take into account"
      ]
    },
    {
      "cell_type": "code",
      "execution_count": null,
      "metadata": {
        "id": "-E97kFFHnJ9N"
      },
      "outputs": [],
      "source": [
        "books100 = df_ratings.isbn.value_counts()\n",
        "books100 = books100.loc[books100 >= 100]"
      ]
    },
    {
      "cell_type": "markdown",
      "metadata": {
        "id": "-ohqYNjYnJ9N"
      },
      "source": [
        "##### In a similar way just the user which have made at least 200 reviews will be consider"
      ]
    },
    {
      "cell_type": "code",
      "execution_count": null,
      "metadata": {
        "id": "M-QMNjOxnJ9O"
      },
      "outputs": [],
      "source": [
        "users200 = df_ratings.user.value_counts()\n",
        "users200 = users200.loc[users200 >= 200]"
      ]
    },
    {
      "cell_type": "markdown",
      "metadata": {
        "id": "uZKlfEocnJ9O"
      },
      "source": [
        "##### `dt_toFit` will be the data frame passed to the knn algorithm in order to find the k nearest neighbors"
      ]
    },
    {
      "cell_type": "code",
      "execution_count": null,
      "metadata": {
        "id": "4jJMvCmYnJ9O"
      },
      "outputs": [],
      "source": [
        "df_toFit = df_ratings.loc[df_ratings.user.isin(users200.keys())]\n",
        "df_toFit = df_toFit.loc[df_toFit.isbn.isin(books100.keys())]\n",
        "\n",
        "df_toFit = df_toFit.pivot(index='isbn', columns='user', values='rating').fillna(0)"
      ]
    },
    {
      "cell_type": "markdown",
      "metadata": {
        "id": "49SmORtC18qs"
      },
      "source": [
        "# KNN Algorithm"
      ]
    },
    {
      "cell_type": "code",
      "execution_count": null,
      "metadata": {
        "id": "xAcXjkCFCh0A"
      },
      "outputs": [],
      "source": [
        "knn = NearestNeighbors(n_neighbors = 6, metric='cosine')\n",
        "knn.fit(df_toFit)\n",
        "distances, indices = knn.kneighbors(df_toFit)"
      ]
    },
    {
      "cell_type": "markdown",
      "metadata": {
        "id": "GqKUwwp1h1Oa"
      },
      "source": [
        "# Making Recomendations"
      ]
    },
    {
      "cell_type": "markdown",
      "metadata": {
        "id": "KdsI2yEanJ9P"
      },
      "source": [
        "## The recomendation function"
      ]
    },
    {
      "cell_type": "code",
      "execution_count": null,
      "metadata": {
        "id": "f5ZUd-L1SQz7"
      },
      "outputs": [],
      "source": [
        "def get_recommends(book = \"\"):\n",
        "  try:\n",
        "    isbn = df_books.isbn[df_books.loc[df_books.title == book].index[0]]\n",
        "    row = df_toFit.index.tolist().index(isbn)\n",
        "    neighborsBooks = indices[row]\n",
        "  except:\n",
        "    return [\"Book requested not found\", []]\n",
        " \n",
        "  recommended_books = [book, []]\n",
        "  for count, nn in enumerate(neighborsBooks):\n",
        "    if (distances[row][count] == 0.0): \n",
        "      pass\n",
        "    else: \n",
        "      recommended_books[1].append([df_books.loc[df_books.isbn == df_toFit.iloc[nn].name].title.values[0], distances[row][count]])\n",
        "  recommended_books[1].reverse()\n",
        "  return recommended_books"
      ]
    },
    {
      "cell_type": "markdown",
      "metadata": {
        "id": "zRKFqdeNnJ9P"
      },
      "source": [
        "## Getting recomendations for different books"
      ]
    },
    {
      "cell_type": "code",
      "execution_count": null,
      "metadata": {
        "colab": {
          "base_uri": "https://localhost:8080/"
        },
        "id": "iXVCU8ljjx16",
        "outputId": "7c043149-d4b4-4eed-c83a-227dc1bf7ce9"
      },
      "outputs": [],
      "source": [
        "book = [\"The Queen of the Damned (Vampire Chronicles (Paperback))\", \n",
        "        \"Where the Heart Is (Oprah's Book Club (Paperback))\",\n",
        "        \"Divine Secrets of the Ya-Ya Sisterhood : A Novel\"]\n",
        "\n",
        "for r in book:\n",
        "  books = get_recommends(r)\n",
        "  print(books[0], \"\\n\")\n",
        "  for i in range(len(books[1])):\n",
        "    print(books[1][i])\n",
        "  if r!=book[-1]: print(\"\\n<========================================================>\\n\")"
      ]
    }
  ],
  "metadata": {
    "colab": {
      "include_colab_link": true,
      "provenance": []
    },
    "kernelspec": {
      "display_name": "Python 3",
      "language": "python",
      "name": "python3"
    },
    "language_info": {
      "codemirror_mode": {
        "name": "ipython",
        "version": 3
      },
      "file_extension": ".py",
      "mimetype": "text/x-python",
      "name": "python",
      "nbconvert_exporter": "python",
      "pygments_lexer": "ipython3",
      "version": "3.8.10"
    }
  },
  "nbformat": 4,
  "nbformat_minor": 0
}
